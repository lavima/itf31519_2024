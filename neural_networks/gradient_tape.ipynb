{
 "cells": [
  {
   "cell_type": "code",
   "execution_count": 3,
   "metadata": {},
   "outputs": [],
   "source": [
    "import tensorflow as tf\n",
    "\n",
    "from tensorflow.keras import Sequential\n",
    "from tensorflow.keras.layers import Dense"
   ]
  },
  {
   "cell_type": "code",
   "execution_count": 9,
   "metadata": {},
   "outputs": [],
   "source": [
    "x = tf.Variable(4.0)\n",
    "\n",
    "with tf.GradientTape() as tape:\n",
    "    y = x**2\n",
    "dy_dx = tape.gradient(x, y)\n",
    "dy_dx"
   ]
  },
  {
   "cell_type": "code",
   "execution_count": 11,
   "metadata": {},
   "outputs": [
    {
     "name": "stdout",
     "output_type": "stream",
     "text": [
      "[<tf.Tensor: shape=(1, 1), dtype=float32, numpy=array([[-27.89939]], dtype=float32)>, <tf.Tensor: shape=(1,), dtype=float32, numpy=array([-13.949695], dtype=float32)>]\n"
     ]
    },
    {
     "data": {
      "text/plain": [
       "<tf.Variable 'UnreadVariable' shape=() dtype=int64, numpy=1>"
      ]
     },
     "execution_count": 11,
     "metadata": {},
     "output_type": "execute_result"
    }
   ],
   "source": [
    "# Define a simple model\n",
    "model = tf.keras.Sequential([tf.keras.layers.Dense(1)])\n",
    "optimizer = tf.optimizers.SGD(learning_rate=0.01)\n",
    "\n",
    "# Sample data\n",
    "x = tf.constant([[2.0]])  # Input\n",
    "y_true = tf.constant([[5.0]])  # Target output\n",
    "\n",
    "\n",
    "# Forward pass and backpropagation with GradientTape\n",
    "with tf.GradientTape() as tape:\n",
    "    y_pred = model(x)  # Model prediction\n",
    "    loss = tf.losses.mse(y_true, y_pred)  # Compute loss\n",
    "\n",
    "# Compute gradients and apply them\n",
    "gradients = tape.gradient(loss, model.trainable_variables)  # Compute gradients\n",
    "print(gradients)\n",
    "optimizer.apply_gradients(zip(gradients, model.trainable_variables))  # Update parameters\n"
   ]
  }
 ],
 "metadata": {
  "kernelspec": {
   "display_name": "tensorflow",
   "language": "python",
   "name": "python3"
  },
  "language_info": {
   "codemirror_mode": {
    "name": "ipython",
    "version": 3
   },
   "file_extension": ".py",
   "mimetype": "text/x-python",
   "name": "python",
   "nbconvert_exporter": "python",
   "pygments_lexer": "ipython3",
   "version": "3.11.6"
  }
 },
 "nbformat": 4,
 "nbformat_minor": 2
}
