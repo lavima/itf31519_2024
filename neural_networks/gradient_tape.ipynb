{
 "cells": [
  {
   "cell_type": "markdown",
   "metadata": {},
   "source": [
    "# The Gradient Tape\n",
    "\n",
    "This notebook provides an introduction to how automatic differentiation is achieved in \n",
    "Tensorflow. "
   ]
  },
  {
   "cell_type": "code",
   "execution_count": 1,
   "metadata": {},
   "outputs": [
    {
     "name": "stderr",
     "output_type": "stream",
     "text": [
      "2024-11-14 14:37:08.638728: E external/local_xla/xla/stream_executor/cuda/cuda_fft.cc:467] Unable to register cuFFT factory: Attempting to register factory for plugin cuFFT when one has already been registered\n",
      "WARNING: All log messages before absl::InitializeLog() is called are written to STDERR\n",
      "E0000 00:00:1731591428.712428  545418 cuda_dnn.cc:8498] Unable to register cuDNN factory: Attempting to register factory for plugin cuDNN when one has already been registered\n",
      "E0000 00:00:1731591428.731300  545418 cuda_blas.cc:1410] Unable to register cuBLAS factory: Attempting to register factory for plugin cuBLAS when one has already been registered\n",
      "2024-11-14 14:37:08.870798: I tensorflow/core/platform/cpu_feature_guard.cc:210] This TensorFlow binary is optimized to use available CPU instructions in performance-critical operations.\n",
      "To enable the following instructions: AVX2 FMA, in other operations, rebuild TensorFlow with the appropriate compiler flags.\n"
     ]
    }
   ],
   "source": [
    "import tensorflow as tf\n",
    "\n",
    "from tensorflow.keras import Sequential\n",
    "from tensorflow.keras.layers import Dense"
   ]
  },
  {
   "cell_type": "code",
   "execution_count": null,
   "metadata": {},
   "outputs": [
    {
     "data": {
      "text/plain": [
       "np.float32(8.0)"
      ]
     },
     "execution_count": 9,
     "metadata": {},
     "output_type": "execute_result"
    }
   ],
   "source": [
    "# Create a tensorflow variable. All operations with TF-variables can be tracked\n",
    "x = tf.Variable(4.0)\n",
    "\n",
    "# Tensorflow uses the so-called gradient tape to record operations\n",
    "with tf.GradientTape() as tape:\n",
    "    y = x**2\n",
    "# Find the gradient of y with respect to x. dy_dx = 2x, x=4 => dy_dx = 8\n",
    "dy_dx = tape.gradient(y, x)\n",
    "dy_dx.numpy()"
   ]
  },
  {
   "cell_type": "code",
   "execution_count": null,
   "metadata": {},
   "outputs": [
    {
     "name": "stdout",
     "output_type": "stream",
     "text": [
      "[<tf.Tensor: shape=(1, 1), dtype=float32, numpy=array([[-9.295926]], dtype=float32)>, <tf.Tensor: shape=(1,), dtype=float32, numpy=array([-4.647963], dtype=float32)>]\n"
     ]
    },
    {
     "data": {
      "text/plain": [
       "<KerasVariable shape=(), dtype=int64, path=SGD/iteration>"
      ]
     },
     "execution_count": 3,
     "metadata": {},
     "output_type": "execute_result"
    }
   ],
   "source": [
    "# This block demonstrates how gradient descent (optimizers) use the gradient tape to \n",
    "# update model weights during training. \n",
    "\n",
    "# Define a simple model with a single neuron\n",
    "model = tf.keras.Sequential([tf.keras.layers.Dense(1)])\n",
    "\n",
    "# Define an optimizer i.e. the gradient descent algorithm to use. In this case we are using \n",
    "# stochastic gradient descent\n",
    "optimizer = tf.optimizers.SGD(learning_rate=0.01)\n",
    "\n",
    "# Sample data\n",
    "x = tf.constant([[2.0]])  # Input\n",
    "y_true = tf.constant([[5.0]])  # Target output\n",
    "\n",
    "\n",
    "# Forward pass and backpropagation with GradientTape\n",
    "with tf.GradientTape() as tape:\n",
    "    y_pred = model(x)  # Model prediction\n",
    "    loss = tf.losses.mse(y_true, y_pred)  # Compute loss\n",
    "\n",
    "# Compute the gradient of the loss function with respect to the weights/biases in the model\n",
    "gradients = tape.gradient(loss, model.trainable_variables)  # Compute gradients\n",
    "print(gradients)\n",
    "\n",
    "# Update the parameters in the model \n",
    "optimizer.apply_gradients(zip(gradients, model.trainable_variables)) \n"
   ]
  }
 ],
 "metadata": {
  "kernelspec": {
   "display_name": "tensorflow",
   "language": "python",
   "name": "python3"
  },
  "language_info": {
   "codemirror_mode": {
    "name": "ipython",
    "version": 3
   },
   "file_extension": ".py",
   "mimetype": "text/x-python",
   "name": "python",
   "nbconvert_exporter": "python",
   "pygments_lexer": "ipython3",
   "version": "3.12.7"
  }
 },
 "nbformat": 4,
 "nbformat_minor": 2
}
