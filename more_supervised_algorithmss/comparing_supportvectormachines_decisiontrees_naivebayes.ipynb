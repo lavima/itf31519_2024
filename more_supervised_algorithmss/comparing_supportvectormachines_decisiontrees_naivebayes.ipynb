{
 "cells": [
  {
   "cell_type": "markdown",
   "metadata": {},
   "source": [
    "# Comparing Support Vector Machines, Decision Trees and Naive Bayes for Heart Failure Prediction"
   ]
  },
  {
   "cell_type": "code",
   "execution_count": 1,
   "metadata": {},
   "outputs": [],
   "source": [
    "# Notebook for Workshop: Compare DecisionTrees and Naive Bayes for Heart Failure Prediction\n",
    "# https://hiof.instructure.com/courses/8923/assignments/41052\n",
    "\n",
    "import pandas as pd\n",
    "import numpy as np\n",
    "from sklearn.naive_bayes import GaussianNB\n",
    "from sklearn.tree import DecisionTreeClassifier\n",
    "from sklearn.metrics import accuracy_score, precision_score, recall_score, f1_score, roc_auc_score, confusion_matrix, classification_report\n",
    "from sklearn.metrics import ConfusionMatrixDisplay, RocCurveDisplay"
   ]
  },
  {
   "cell_type": "markdown",
   "metadata": {},
   "source": [
    "I've added some markdown cells that provide some tips into how to discuss results. Note that my comments were made to a\n",
    "particular run. Due the limitations with setup related to random sampling, we get different results each time we run. The discussions might therefore be slightly errornous when discussion concrete numbers, but they still provide valuable tips for how to discuss results."
   ]
  },
  {
   "cell_type": "code",
   "execution_count": 2,
   "metadata": {},
   "outputs": [
    {
     "data": {
      "text/html": [
       "<div>\n",
       "<style scoped>\n",
       "    .dataframe tbody tr th:only-of-type {\n",
       "        vertical-align: middle;\n",
       "    }\n",
       "\n",
       "    .dataframe tbody tr th {\n",
       "        vertical-align: top;\n",
       "    }\n",
       "\n",
       "    .dataframe thead th {\n",
       "        text-align: right;\n",
       "    }\n",
       "</style>\n",
       "<table border=\"1\" class=\"dataframe\">\n",
       "  <thead>\n",
       "    <tr style=\"text-align: right;\">\n",
       "      <th></th>\n",
       "      <th>age</th>\n",
       "      <th>anaemia</th>\n",
       "      <th>creatinine_phosphokinase</th>\n",
       "      <th>diabetes</th>\n",
       "      <th>ejection_fraction</th>\n",
       "      <th>high_blood_pressure</th>\n",
       "      <th>platelets</th>\n",
       "      <th>serum_creatinine</th>\n",
       "      <th>serum_sodium</th>\n",
       "      <th>sex</th>\n",
       "      <th>smoking</th>\n",
       "      <th>time</th>\n",
       "      <th>DEATH_EVENT</th>\n",
       "    </tr>\n",
       "  </thead>\n",
       "  <tbody>\n",
       "    <tr>\n",
       "      <th>0</th>\n",
       "      <td>75.0</td>\n",
       "      <td>0</td>\n",
       "      <td>582</td>\n",
       "      <td>0</td>\n",
       "      <td>20</td>\n",
       "      <td>1</td>\n",
       "      <td>265000.00</td>\n",
       "      <td>1.9</td>\n",
       "      <td>130</td>\n",
       "      <td>1</td>\n",
       "      <td>0</td>\n",
       "      <td>4</td>\n",
       "      <td>1</td>\n",
       "    </tr>\n",
       "    <tr>\n",
       "      <th>1</th>\n",
       "      <td>55.0</td>\n",
       "      <td>0</td>\n",
       "      <td>7861</td>\n",
       "      <td>0</td>\n",
       "      <td>38</td>\n",
       "      <td>0</td>\n",
       "      <td>263358.03</td>\n",
       "      <td>1.1</td>\n",
       "      <td>136</td>\n",
       "      <td>1</td>\n",
       "      <td>0</td>\n",
       "      <td>6</td>\n",
       "      <td>1</td>\n",
       "    </tr>\n",
       "    <tr>\n",
       "      <th>2</th>\n",
       "      <td>65.0</td>\n",
       "      <td>0</td>\n",
       "      <td>146</td>\n",
       "      <td>0</td>\n",
       "      <td>20</td>\n",
       "      <td>0</td>\n",
       "      <td>162000.00</td>\n",
       "      <td>1.3</td>\n",
       "      <td>129</td>\n",
       "      <td>1</td>\n",
       "      <td>1</td>\n",
       "      <td>7</td>\n",
       "      <td>1</td>\n",
       "    </tr>\n",
       "    <tr>\n",
       "      <th>3</th>\n",
       "      <td>50.0</td>\n",
       "      <td>1</td>\n",
       "      <td>111</td>\n",
       "      <td>0</td>\n",
       "      <td>20</td>\n",
       "      <td>0</td>\n",
       "      <td>210000.00</td>\n",
       "      <td>1.9</td>\n",
       "      <td>137</td>\n",
       "      <td>1</td>\n",
       "      <td>0</td>\n",
       "      <td>7</td>\n",
       "      <td>1</td>\n",
       "    </tr>\n",
       "    <tr>\n",
       "      <th>4</th>\n",
       "      <td>65.0</td>\n",
       "      <td>1</td>\n",
       "      <td>160</td>\n",
       "      <td>1</td>\n",
       "      <td>20</td>\n",
       "      <td>0</td>\n",
       "      <td>327000.00</td>\n",
       "      <td>2.7</td>\n",
       "      <td>116</td>\n",
       "      <td>0</td>\n",
       "      <td>0</td>\n",
       "      <td>8</td>\n",
       "      <td>1</td>\n",
       "    </tr>\n",
       "  </tbody>\n",
       "</table>\n",
       "</div>"
      ],
      "text/plain": [
       "    age  anaemia  creatinine_phosphokinase  diabetes  ejection_fraction  \\\n",
       "0  75.0        0                       582         0                 20   \n",
       "1  55.0        0                      7861         0                 38   \n",
       "2  65.0        0                       146         0                 20   \n",
       "3  50.0        1                       111         0                 20   \n",
       "4  65.0        1                       160         1                 20   \n",
       "\n",
       "   high_blood_pressure  platelets  serum_creatinine  serum_sodium  sex  \\\n",
       "0                    1  265000.00               1.9           130    1   \n",
       "1                    0  263358.03               1.1           136    1   \n",
       "2                    0  162000.00               1.3           129    1   \n",
       "3                    0  210000.00               1.9           137    1   \n",
       "4                    0  327000.00               2.7           116    0   \n",
       "\n",
       "   smoking  time  DEATH_EVENT  \n",
       "0        0     4            1  \n",
       "1        0     6            1  \n",
       "2        1     7            1  \n",
       "3        0     7            1  \n",
       "4        0     8            1  "
      ]
     },
     "execution_count": 2,
     "metadata": {},
     "output_type": "execute_result"
    }
   ],
   "source": [
    "# Load the dataset and show first 5 rows\n",
    "\n",
    "dataset = pd.read_csv('../data/heart_failure/heart_failure_clinical_records_dataset.csv')\n",
    "dataset.head()"
   ]
  },
  {
   "cell_type": "markdown",
   "metadata": {},
   "source": [
    "## Exploratory Analysis and Processing"
   ]
  },
  {
   "cell_type": "code",
   "execution_count": 3,
   "metadata": {},
   "outputs": [
    {
     "data": {
      "text/plain": [
       "array([[<Axes: title={'center': 'age'}>,\n",
       "        <Axes: title={'center': 'anaemia'}>,\n",
       "        <Axes: title={'center': 'creatinine_phosphokinase'}>,\n",
       "        <Axes: title={'center': 'diabetes'}>],\n",
       "       [<Axes: title={'center': 'ejection_fraction'}>,\n",
       "        <Axes: title={'center': 'high_blood_pressure'}>,\n",
       "        <Axes: title={'center': 'platelets'}>,\n",
       "        <Axes: title={'center': 'serum_creatinine'}>],\n",
       "       [<Axes: title={'center': 'serum_sodium'}>,\n",
       "        <Axes: title={'center': 'sex'}>,\n",
       "        <Axes: title={'center': 'smoking'}>,\n",
       "        <Axes: title={'center': 'time'}>],\n",
       "       [<Axes: title={'center': 'DEATH_EVENT'}>, <Axes: >, <Axes: >,\n",
       "        <Axes: >]], dtype=object)"
      ]
     },
     "execution_count": 3,
     "metadata": {},
     "output_type": "execute_result"
    },
    {
     "data": {
      "image/png": "[encoded data removed]",
      "text/plain": [
       "<Figure size 640x480 with 16 Axes>"
      ]
     },
     "metadata": {},
     "output_type": "display_data"
    }
   ],
   "source": [
    "# Show the distribution of all the columns (both features and targets). We do this \n",
    "# to explore our data so that we better know how to proceed with the training. \n",
    "# This should be improved.\n",
    "\n",
    "dataset.hist()"
   ]
  },
  {
   "cell_type": "markdown",
   "metadata": {},
   "source": [
    "We did this analysis to determine which version of naive bayes to use. We can see that some of the features are what we can consider normally distributed and some are binary. The normally distributed features aren't necessarily bell shaped like we would expect for normally distributed data, but they are closer to normally distributed than the alternative (binary/frequency).\n",
    "\n",
    "The fact that we have two different types of distributions in our features means that we might have to create a custom classifier that combines a gaussian and bernoulli classifier to achieve optimal performance."
   ]
  },
  {
   "cell_type": "code",
   "execution_count": 23,
   "metadata": {},
   "outputs": [
    {
     "name": "stderr",
     "output_type": "stream",
     "text": [
      "/tmp/ipykernel_485809/3400667184.py:6: DeprecationWarning: DataFrameGroupBy.apply operated on the grouping columns. This behavior is deprecated, and in a future version of pandas the grouping columns will be excluded from the operation. Either pass `include_groups=False` to exclude the groupings or explicitly select the grouping columns after groupby to silence this warning.\n",
      "  train = trainval.groupby('DEATH_EVENT', group_keys=False).apply(lambda x: x.sample(frac=0.75))\n"
     ]
    }
   ],
   "source": [
    "# Split into 60/20/20. 60% for training, 20% validation, and 20% for final testing\n",
    "\n",
    "trainval = dataset.groupby('DEATH_EVENT', group_keys=False)[dataset.columns].apply(lambda x: x.sample(frac=0.8))\n",
    "test = dataset.drop(trainval.index)\n",
    "# 75% of 80% is 60% of total\n",
    "train = trainval.groupby('DEATH_EVENT', group_keys=False)[dataset.columns].apply(lambda x: x.sample(frac=0.75))\n",
    "validation = trainval.drop(train.index)"
   ]
  },
  {
   "cell_type": "code",
   "execution_count": 5,
   "metadata": {},
   "outputs": [],
   "source": [
    "# Separate input features from targets in all partitions\n",
    "\n",
    "train_features = train.drop('DEATH_EVENT', axis=1)\n",
    "train_targets = train['DEATH_EVENT']\n",
    "\n",
    "validation_features = validation.drop('DEATH_EVENT', axis=1)\n",
    "validation_targets = validation['DEATH_EVENT']\n",
    "\n",
    "test_features = test.drop('DEATH_EVENT', axis=1)\n",
    "test_targets = test.DEATH_EVENT"
   ]
  },
  {
   "cell_type": "code",
   "execution_count": 6,
   "metadata": {},
   "outputs": [
    {
     "data": {
      "text/html": [
       "<style>#sk-container-id-1 {\n",
       "  /* Definition of color scheme common for light and dark mode */\n",
       "  --sklearn-color-text: black;\n",
       "  --sklearn-color-line: gray;\n",
       "  /* Definition of color scheme for unfitted estimators */\n",
       "  --sklearn-color-unfitted-level-0: #fff5e6;\n",
       "  --sklearn-color-unfitted-level-1: #f6e4d2;\n",
       "  --sklearn-color-unfitted-level-2: #ffe0b3;\n",
       "  --sklearn-color-unfitted-level-3: chocolate;\n",
       "  /* Definition of color scheme for fitted estimators */\n",
       "  --sklearn-color-fitted-level-0: #f0f8ff;\n",
       "  --sklearn-color-fitted-level-1: #d4ebff;\n",
       "  --sklearn-color-fitted-level-2: #b3dbfd;\n",
       "  --sklearn-color-fitted-level-3: cornflowerblue;\n",
       "\n",
       "  /* Specific color for light theme */\n",
       "  --sklearn-color-text-on-default-background: var(--sg-text-color, var(--theme-code-foreground, var(--jp-content-font-color1, black)));\n",
       "  --sklearn-color-background: var(--sg-background-color, var(--theme-background, var(--jp-layout-color0, white)));\n",
       "  --sklearn-color-border-box: var(--sg-text-color, var(--theme-code-foreground, var(--jp-content-font-color1, black)));\n",
       "  --sklearn-color-icon: #696969;\n",
       "\n",
       "  @media (prefers-color-scheme: dark) {\n",
       "    /* Redefinition of color scheme for dark theme */\n",
       "    --sklearn-color-text-on-default-background: var(--sg-text-color, var(--theme-code-foreground, var(--jp-content-font-color1, white)));\n",
       "    --sklearn-color-background: var(--sg-background-color, var(--theme-background, var(--jp-layout-color0, #111)));\n",
       "    --sklearn-color-border-box: var(--sg-text-color, var(--theme-code-foreground, var(--jp-content-font-color1, white)));\n",
       "    --sklearn-color-icon: #878787;\n",
       "  }\n",
       "}\n",
       "\n",
       "#sk-container-id-1 {\n",
       "  color: var(--sklearn-color-text);\n",
       "}\n",
       "\n",
       "#sk-container-id-1 pre {\n",
       "  padding: 0;\n",
       "}\n",
       "\n",
       "#sk-container-id-1 input.sk-hidden--visually {\n",
       "  border: 0;\n",
       "  clip: rect(1px 1px 1px 1px);\n",
       "  clip: rect(1px, 1px, 1px, 1px);\n",
       "  height: 1px;\n",
       "  margin: -1px;\n",
       "  overflow: hidden;\n",
       "  padding: 0;\n",
       "  position: absolute;\n",
       "  width: 1px;\n",
       "}\n",
       "\n",
       "#sk-container-id-1 div.sk-dashed-wrapped {\n",
       "  border: 1px dashed var(--sklearn-color-line);\n",
       "  margin: 0 0.4em 0.5em 0.4em;\n",
       "  box-sizing: border-box;\n",
       "  padding-bottom: 0.4em;\n",
       "  background-color: var(--sklearn-color-background);\n",
       "}\n",
       "\n",
       "#sk-container-id-1 div.sk-container {\n",
       "  /* jupyter's `normalize.less` sets `[hidden] { display: none; }`\n",
       "     but bootstrap.min.css set `[hidden] { display: none !important; }`\n",
       "     so we also need the `!important` here to be able to override the\n",
       "     default hidden behavior on the sphinx rendered scikit-learn.org.\n",
       "     See: https://github.com/scikit-learn/scikit-learn/issues/21755 */\n",
       "  display: inline-block !important;\n",
       "  position: relative;\n",
       "}\n",
       "\n",
       "#sk-container-id-1 div.sk-text-repr-fallback {\n",
       "  display: none;\n",
       "}\n",
       "\n",
       "div.sk-parallel-item,\n",
       "div.sk-serial,\n",
       "div.sk-item {\n",
       "  /* draw centered vertical line to link estimators */\n",
       "  background-image: linear-gradient(var(--sklearn-color-text-on-default-background), var(--sklearn-color-text-on-default-background));\n",
       "  background-size: 2px 100%;\n",
       "  background-repeat: no-repeat;\n",
       "  background-position: center center;\n",
       "}\n",
       "\n",
       "/* Parallel-specific style estimator block */\n",
       "\n",
       "#sk-container-id-1 div.sk-parallel-item::after {\n",
       "  content: \"\";\n",
       "  width: 100%;\n",
       "  border-bottom: 2px solid var(--sklearn-color-text-on-default-background);\n",
       "  flex-grow: 1;\n",
       "}\n",
       "\n",
       "#sk-container-id-1 div.sk-parallel {\n",
       "  display: flex;\n",
       "  align-items: stretch;\n",
       "  justify-content: center;\n",
       "  background-color: var(--sklearn-color-background);\n",
       "  position: relative;\n",
       "}\n",
       "\n",
       "#sk-container-id-1 div.sk-parallel-item {\n",
       "  display: flex;\n",
       "  flex-direction: column;\n",
       "}\n",
       "\n",
       "#sk-container-id-1 div.sk-parallel-item:first-child::after {\n",
       "  align-self: flex-end;\n",
       "  width: 50%;\n",
       "}\n",
       "\n",
       "#sk-container-id-1 div.sk-parallel-item:last-child::after {\n",
       "  align-self: flex-start;\n",
       "  width: 50%;\n",
       "}\n",
       "\n",
       "#sk-container-id-1 div.sk-parallel-item:only-child::after {\n",
       "  width: 0;\n",
       "}\n",
       "\n",
       "/* Serial-specific style estimator block */\n",
       "\n",
       "#sk-container-id-1 div.sk-serial {\n",
       "  display: flex;\n",
       "  flex-direction: column;\n",
       "  align-items: center;\n",
       "  background-color: var(--sklearn-color-background);\n",
       "  padding-right: 1em;\n",
       "  padding-left: 1em;\n",
       "}\n",
       "\n",
       "\n",
       "/* Toggleable style: style used for estimator/Pipeline/ColumnTransformer box that is\n",
       "clickable and can be expanded/collapsed.\n",
       "- Pipeline and ColumnTransformer use this feature and define the default style\n",
       "- Estimators will overwrite some part of the style using the `sk-estimator` class\n",
       "*/\n",
       "\n",
       "/* Pipeline and ColumnTransformer style (default) */\n",
       "\n",
       "#sk-container-id-1 div.sk-toggleable {\n",
       "  /* Default theme specific background. It is overwritten whether we have a\n",
       "  specific estimator or a Pipeline/ColumnTransformer */\n",
       "  background-color: var(--sklearn-color-background);\n",
       "}\n",
       "\n",
       "/* Toggleable label */\n",
       "#sk-container-id-1 label.sk-toggleable__label {\n",
       "  cursor: pointer;\n",
       "  display: block;\n",
       "  width: 100%;\n",
       "  margin-bottom: 0;\n",
       "  padding: 0.5em;\n",
       "  box-sizing: border-box;\n",
       "  text-align: center;\n",
       "}\n",
       "\n",
       "#sk-container-id-1 label.sk-toggleable__label-arrow:before {\n",
       "  /* Arrow on the left of the label */\n",
       "  content: \"▸\";\n",
       "  float: left;\n",
       "  margin-right: 0.25em;\n",
       "  color: var(--sklearn-color-icon);\n",
       "}\n",
       "\n",
       "#sk-container-id-1 label.sk-toggleable__label-arrow:hover:before {\n",
       "  color: var(--sklearn-color-text);\n",
       "}\n",
       "\n",
       "/* Toggleable content - dropdown */\n",
       "\n",
       "#sk-container-id-1 div.sk-toggleable__content {\n",
       "  max-height: 0;\n",
       "  max-width: 0;\n",
       "  overflow: hidden;\n",
       "  text-align: left;\n",
       "  /* unfitted */\n",
       "  background-color: var(--sklearn-color-unfitted-level-0);\n",
       "}\n",
       "\n",
       "#sk-container-id-1 div.sk-toggleable__content.fitted {\n",
       "  /* fitted */\n",
       "  background-color: var(--sklearn-color-fitted-level-0);\n",
       "}\n",
       "\n",
       "#sk-container-id-1 div.sk-toggleable__content pre {\n",
       "  margin: 0.2em;\n",
       "  border-radius: 0.25em;\n",
       "  color: var(--sklearn-color-text);\n",
       "  /* unfitted */\n",
       "  background-color: var(--sklearn-color-unfitted-level-0);\n",
       "}\n",
       "\n",
       "#sk-container-id-1 div.sk-toggleable__content.fitted pre {\n",
       "  /* unfitted */\n",
       "  background-color: var(--sklearn-color-fitted-level-0);\n",
       "}\n",
       "\n",
       "#sk-container-id-1 input.sk-toggleable__control:checked~div.sk-toggleable__content {\n",
       "  /* Expand drop-down */\n",
       "  max-height: 200px;\n",
       "  max-width: 100%;\n",
       "  overflow: auto;\n",
       "}\n",
       "\n",
       "#sk-container-id-1 input.sk-toggleable__control:checked~label.sk-toggleable__label-arrow:before {\n",
       "  content: \"▾\";\n",
       "}\n",
       "\n",
       "/* Pipeline/ColumnTransformer-specific style */\n",
       "\n",
       "#sk-container-id-1 div.sk-label input.sk-toggleable__control:checked~label.sk-toggleable__label {\n",
       "  color: var(--sklearn-color-text);\n",
       "  background-color: var(--sklearn-color-unfitted-level-2);\n",
       "}\n",
       "\n",
       "#sk-container-id-1 div.sk-label.fitted input.sk-toggleable__control:checked~label.sk-toggleable__label {\n",
       "  background-color: var(--sklearn-color-fitted-level-2);\n",
       "}\n",
       "\n",
       "/* Estimator-specific style */\n",
       "\n",
       "/* Colorize estimator box */\n",
       "#sk-container-id-1 div.sk-estimator input.sk-toggleable__control:checked~label.sk-toggleable__label {\n",
       "  /* unfitted */\n",
       "  background-color: var(--sklearn-color-unfitted-level-2);\n",
       "}\n",
       "\n",
       "#sk-container-id-1 div.sk-estimator.fitted input.sk-toggleable__control:checked~label.sk-toggleable__label {\n",
       "  /* fitted */\n",
       "  background-color: var(--sklearn-color-fitted-level-2);\n",
       "}\n",
       "\n",
       "#sk-container-id-1 div.sk-label label.sk-toggleable__label,\n",
       "#sk-container-id-1 div.sk-label label {\n",
       "  /* The background is the default theme color */\n",
       "  color: var(--sklearn-color-text-on-default-background);\n",
       "}\n",
       "\n",
       "/* On hover, darken the color of the background */\n",
       "#sk-container-id-1 div.sk-label:hover label.sk-toggleable__label {\n",
       "  color: var(--sklearn-color-text);\n",
       "  background-color: var(--sklearn-color-unfitted-level-2);\n",
       "}\n",
       "\n",
       "/* Label box, darken color on hover, fitted */\n",
       "#sk-container-id-1 div.sk-label.fitted:hover label.sk-toggleable__label.fitted {\n",
       "  color: var(--sklearn-color-text);\n",
       "  background-color: var(--sklearn-color-fitted-level-2);\n",
       "}\n",
       "\n",
       "/* Estimator label */\n",
       "\n",
       "#sk-container-id-1 div.sk-label label {\n",
       "  font-family: monospace;\n",
       "  font-weight: bold;\n",
       "  display: inline-block;\n",
       "  line-height: 1.2em;\n",
       "}\n",
       "\n",
       "#sk-container-id-1 div.sk-label-container {\n",
       "  text-align: center;\n",
       "}\n",
       "\n",
       "/* Estimator-specific */\n",
       "#sk-container-id-1 div.sk-estimator {\n",
       "  font-family: monospace;\n",
       "  border: 1px dotted var(--sklearn-color-border-box);\n",
       "  border-radius: 0.25em;\n",
       "  box-sizing: border-box;\n",
       "  margin-bottom: 0.5em;\n",
       "  /* unfitted */\n",
       "  background-color: var(--sklearn-color-unfitted-level-0);\n",
       "}\n",
       "\n",
       "#sk-container-id-1 div.sk-estimator.fitted {\n",
       "  /* fitted */\n",
       "  background-color: var(--sklearn-color-fitted-level-0);\n",
       "}\n",
       "\n",
       "/* on hover */\n",
       "#sk-container-id-1 div.sk-estimator:hover {\n",
       "  /* unfitted */\n",
       "  background-color: var(--sklearn-color-unfitted-level-2);\n",
       "}\n",
       "\n",
       "#sk-container-id-1 div.sk-estimator.fitted:hover {\n",
       "  /* fitted */\n",
       "  background-color: var(--sklearn-color-fitted-level-2);\n",
       "}\n",
       "\n",
       "/* Specification for estimator info (e.g. \"i\" and \"?\") */\n",
       "\n",
       "/* Common style for \"i\" and \"?\" */\n",
       "\n",
       ".sk-estimator-doc-link,\n",
       "a:link.sk-estimator-doc-link,\n",
       "a:visited.sk-estimator-doc-link {\n",
       "  float: right;\n",
       "  font-size: smaller;\n",
       "  line-height: 1em;\n",
       "  font-family: monospace;\n",
       "  background-color: var(--sklearn-color-background);\n",
       "  border-radius: 1em;\n",
       "  height: 1em;\n",
       "  width: 1em;\n",
       "  text-decoration: none !important;\n",
       "  margin-left: 1ex;\n",
       "  /* unfitted */\n",
       "  border: var(--sklearn-color-unfitted-level-1) 1pt solid;\n",
       "  color: var(--sklearn-color-unfitted-level-1);\n",
       "}\n",
       "\n",
       ".sk-estimator-doc-link.fitted,\n",
       "a:link.sk-estimator-doc-link.fitted,\n",
       "a:visited.sk-estimator-doc-link.fitted {\n",
       "  /* fitted */\n",
       "  border: var(--sklearn-color-fitted-level-1) 1pt solid;\n",
       "  color: var(--sklearn-color-fitted-level-1);\n",
       "}\n",
       "\n",
       "/* On hover */\n",
       "div.sk-estimator:hover .sk-estimator-doc-link:hover,\n",
       ".sk-estimator-doc-link:hover,\n",
       "div.sk-label-container:hover .sk-estimator-doc-link:hover,\n",
       ".sk-estimator-doc-link:hover {\n",
       "  /* unfitted */\n",
       "  background-color: var(--sklearn-color-unfitted-level-3);\n",
       "  color: var(--sklearn-color-background);\n",
       "  text-decoration: none;\n",
       "}\n",
       "\n",
       "div.sk-estimator.fitted:hover .sk-estimator-doc-link.fitted:hover,\n",
       ".sk-estimator-doc-link.fitted:hover,\n",
       "div.sk-label-container:hover .sk-estimator-doc-link.fitted:hover,\n",
       ".sk-estimator-doc-link.fitted:hover {\n",
       "  /* fitted */\n",
       "  background-color: var(--sklearn-color-fitted-level-3);\n",
       "  color: var(--sklearn-color-background);\n",
       "  text-decoration: none;\n",
       "}\n",
       "\n",
       "/* Span, style for the box shown on hovering the info icon */\n",
       ".sk-estimator-doc-link span {\n",
       "  display: none;\n",
       "  z-index: 9999;\n",
       "  position: relative;\n",
       "  font-weight: normal;\n",
       "  right: .2ex;\n",
       "  padding: .5ex;\n",
       "  margin: .5ex;\n",
       "  width: min-content;\n",
       "  min-width: 20ex;\n",
       "  max-width: 50ex;\n",
       "  color: var(--sklearn-color-text);\n",
       "  box-shadow: 2pt 2pt 4pt #999;\n",
       "  /* unfitted */\n",
       "  background: var(--sklearn-color-unfitted-level-0);\n",
       "  border: .5pt solid var(--sklearn-color-unfitted-level-3);\n",
       "}\n",
       "\n",
       ".sk-estimator-doc-link.fitted span {\n",
       "  /* fitted */\n",
       "  background: var(--sklearn-color-fitted-level-0);\n",
       "  border: var(--sklearn-color-fitted-level-3);\n",
       "}\n",
       "\n",
       ".sk-estimator-doc-link:hover span {\n",
       "  display: block;\n",
       "}\n",
       "\n",
       "/* \"?\"-specific style due to the `<a>` HTML tag */\n",
       "\n",
       "#sk-container-id-1 a.estimator_doc_link {\n",
       "  float: right;\n",
       "  font-size: 1rem;\n",
       "  line-height: 1em;\n",
       "  font-family: monospace;\n",
       "  background-color: var(--sklearn-color-background);\n",
       "  border-radius: 1rem;\n",
       "  height: 1rem;\n",
       "  width: 1rem;\n",
       "  text-decoration: none;\n",
       "  /* unfitted */\n",
       "  color: var(--sklearn-color-unfitted-level-1);\n",
       "  border: var(--sklearn-color-unfitted-level-1) 1pt solid;\n",
       "}\n",
       "\n",
       "#sk-container-id-1 a.estimator_doc_link.fitted {\n",
       "  /* fitted */\n",
       "  border: var(--sklearn-color-fitted-level-1) 1pt solid;\n",
       "  color: var(--sklearn-color-fitted-level-1);\n",
       "}\n",
       "\n",
       "/* On hover */\n",
       "#sk-container-id-1 a.estimator_doc_link:hover {\n",
       "  /* unfitted */\n",
       "  background-color: var(--sklearn-color-unfitted-level-3);\n",
       "  color: var(--sklearn-color-background);\n",
       "  text-decoration: none;\n",
       "}\n",
       "\n",
       "#sk-container-id-1 a.estimator_doc_link.fitted:hover {\n",
       "  /* fitted */\n",
       "  background-color: var(--sklearn-color-fitted-level-3);\n",
       "}\n",
       "</style><div id=\"sk-container-id-1\" class=\"sk-top-container\"><div class=\"sk-text-repr-fallback\"><pre>DecisionTreeClassifier()</pre><b>In a Jupyter environment, please rerun this cell to show the HTML representation or trust the notebook. <br />On GitHub, the HTML representation is unable to render, please try loading this page with nbviewer.org.</b></div><div class=\"sk-container\" hidden><div class=\"sk-item\"><div class=\"sk-estimator fitted sk-toggleable\"><input class=\"sk-toggleable__control sk-hidden--visually\" id=\"sk-estimator-id-1\" type=\"checkbox\" checked><label for=\"sk-estimator-id-1\" class=\"sk-toggleable__label fitted sk-toggleable__label-arrow fitted\">&nbsp;&nbsp;DecisionTreeClassifier<a class=\"sk-estimator-doc-link fitted\" rel=\"noreferrer\" target=\"_blank\" href=\"https://scikit-learn.org/1.4/modules/generated/sklearn.tree.DecisionTreeClassifier.html\">?<span>Documentation for DecisionTreeClassifier</span></a><span class=\"sk-estimator-doc-link fitted\">i<span>Fitted</span></span></label><div class=\"sk-toggleable__content fitted\"><pre>DecisionTreeClassifier()</pre></div> </div></div></div></div>"
      ],
      "text/plain": [
       "DecisionTreeClassifier()"
      ]
     },
     "execution_count": 6,
     "metadata": {},
     "output_type": "execute_result"
    }
   ],
   "source": [
    "# Train a classifier with default parameters\n",
    "\n",
    "dt1 = DecisionTreeClassifier()\n",
    "dt1.fit(train_features, train_targets)"
   ]
  },
  {
   "cell_type": "code",
   "execution_count": 7,
   "metadata": {},
   "outputs": [
    {
     "data": {
      "text/plain": [
       "0.6949152542372882"
      ]
     },
     "execution_count": 7,
     "metadata": {},
     "output_type": "execute_result"
    }
   ],
   "source": [
    "# Evaluate the performance of the classifier using the default metrics for classifiers, accuracy\n",
    "\n",
    "dt1.score(validation_features, validation_targets)"
   ]
  },
  {
   "cell_type": "code",
   "execution_count": 8,
   "metadata": {},
   "outputs": [],
   "source": [
    "# A custom function for evaluation the performance using accuracy, precision, recall, f1 and roc_auc\n",
    "# The final_eval parameter makes the evaluation include test data\n",
    "def evaluate(model, final_eval=False):\n",
    "\n",
    "    # Store the prediction probabilites and the predictions. We need the probabilities for \n",
    "    # roc_auc_score metric\n",
    "\n",
    "    train_probabilities = model.predict_proba(train_features)\n",
    "    # train_predictions = model.predict(train_features)\n",
    "    # This does the same as the statement above without having the model predict again\n",
    "    train_predictions = model.classes_.take(np.argmax(train_probabilities, axis=1), axis=0)\n",
    "    validation_probabilities = model.predict_proba(validation_features)\n",
    "    # validation_predictions = model.predict(validation_features)\n",
    "    validation_predictions = model.classes_.take(np.argmax(validation_probabilities, axis=1), axis=0)\n",
    "\n",
    "    # Print the training and validation scores\n",
    "\n",
    "    print(f'Training Accuracy: {accuracy_score(train_targets, train_predictions)}')\n",
    "    print(f'Training Precision: {precision_score(train_targets, train_predictions)}')\n",
    "    print(f'Training Recall: {recall_score(train_targets, train_predictions)}')\n",
    "    print(f'Training F1: {f1_score(train_targets, train_predictions)}')\n",
    "    print(f'Training ROC AUC: {roc_auc_score(train_targets, train_probabilities[:,1])}')\n",
    "    print(f'Validation Accuracy: {accuracy_score(validation_targets, validation_predictions)}')\n",
    "    print(f'Validation Precision: {precision_score(validation_targets, validation_predictions)}')\n",
    "    print(f'Validation Recall: {recall_score(validation_targets, validation_predictions)}')\n",
    "    print(f'Validation F1: {f1_score(validation_targets, validation_predictions)}')\n",
    "    print(f'Validation ROC AUC: {roc_auc_score(validation_targets, validation_probabilities[:,1])}')\n",
    "    \n",
    "    # Evaluate and print the final test scores if final_eval is True\n",
    "    \n",
    "    if final_eval:\n",
    "        test_probabilities = model.predict_proba(test_features)\n",
    "        test_predictions = model.classes_.take(np.argmax(test_probabilities, axis=1), axis=0)\n",
    "\n",
    "        print(f'Test Accuracy: {accuracy_score(test_targets, test_predictions)}')\n",
    "        print(f'Test Precision: {precision_score(test_targets, test_predictions)}')\n",
    "        print(f'Test Recall: {recall_score(test_targets, test_predictions)}')\n",
    "        print(f'Test F1: {f1_score(test_targets, test_predictions)}')\n",
    "        print(f'Test ROC AUC: {roc_auc_score(test_targets, test_probabilities[:,1])}')\n"
   ]
  },
  {
   "cell_type": "code",
   "execution_count": 9,
   "metadata": {},
   "outputs": [
    {
     "name": "stdout",
     "output_type": "stream",
     "text": [
      "Training Accuracy: 1.0\n",
      "Training Precision: 1.0\n",
      "Training Recall: 1.0\n",
      "Training F1: 1.0\n",
      "Training ROC AUC: 1.0\n",
      "Validation Accuracy: 0.6949152542372882\n",
      "Validation Precision: 0.5185185185185185\n",
      "Validation Recall: 0.7368421052631579\n",
      "Validation F1: 0.6086956521739131\n",
      "Validation ROC AUC: 0.705921052631579\n"
     ]
    }
   ],
   "source": [
    "# Evaluate our model using our custom evaluate function\n",
    "\n",
    "evaluate(dt1)"
   ]
  },
  {
   "cell_type": "markdown",
   "metadata": {},
   "source": [
    "Observations:\n",
    "* model1 is highly overfitted, test results for f1 has dropped with almost 28 percentage points, other metrics have dropped significantly\n",
    "* the model has a slignt tendency towards precision, meaning that the it is restrictive in predicting heart failures but that it is quite accurate when making the prediction\n"
   ]
  },
  {
   "cell_type": "code",
   "execution_count": 10,
   "metadata": {},
   "outputs": [
    {
     "data": {
      "text/plain": [
       "'              precision    recall  f1-score   support\\n\\n           0       0.84      0.68      0.75        40\\n           1       0.52      0.74      0.61        19\\n\\n    accuracy                           0.69        59\\n   macro avg       0.68      0.71      0.68        59\\nweighted avg       0.74      0.69      0.70        59\\n'"
      ]
     },
     "execution_count": 10,
     "metadata": {},
     "output_type": "execute_result"
    }
   ],
   "source": [
    "# Similar reports can be created using the builtin classification_report, but it is\n",
    "# recommended to create your own\n",
    "\n",
    "classification_report(validation_targets, dt1.predict(validation_features))"
   ]
  },
  {
   "cell_type": "code",
   "execution_count": 11,
   "metadata": {},
   "outputs": [
    {
     "name": "stdout",
     "output_type": "stream",
     "text": [
      "Training Accuracy: 0.8222222222222222\n",
      "Training Precision: 0.782608695652174\n",
      "Training Recall: 0.6206896551724138\n",
      "Training F1: 0.6923076923076923\n",
      "Training ROC AUC: 0.8542962125494631\n",
      "Validation Accuracy: 0.8813559322033898\n",
      "Validation Precision: 0.875\n",
      "Validation Recall: 0.7368421052631579\n",
      "Validation F1: 0.8\n",
      "Validation ROC AUC: 0.8973684210526315\n"
     ]
    }
   ],
   "source": [
    "# Train a new classifier with max_depth set to 2 i.e. the produced decision tree will \n",
    "# never be deeper than 2 levels. This is a somewhat arbitraty choice of both parameter and \n",
    "# value. \n",
    "\n",
    "# Read the documentation for the classification algorithm to understand how the parameteres work, \n",
    "# and make different models based on your understanding of what might improve the results. \n",
    "# A random approach might also be a viable approach, but, with manual hyperparameter tuning, \n",
    "# this approach will take a long time. \n",
    "# \n",
    "# Note that you are expected to be able to explain and discuss how\n",
    "# different hyperparameters affect results, both in the mandatory assignments and the \n",
    "# oral exam\n",
    "\n",
    "dt2 = DecisionTreeClassifier(max_depth=2)\n",
    "dt2.fit(train_features, train_targets)\n",
    "evaluate(dt2)"
   ]
  },
  {
   "cell_type": "markdown",
   "metadata": {},
   "source": [
    "Observations\n",
    "* This model is overfitted as well, but not to the same extent as the dt1 \n",
    "* Like the first model, the model has better precision than recall, but here the tendency is much greater and we can see the trend in both the training and test results\n",
    "* dt2 performs better than dt1 in all metrics (the same for recall) for validation data i.e. we must assume it is the best of the two"
   ]
  },
  {
   "cell_type": "code",
   "execution_count": 12,
   "metadata": {},
   "outputs": [
    {
     "name": "stdout",
     "output_type": "stream",
     "text": [
      "Training Accuracy: 1.0\n",
      "Training Precision: 1.0\n",
      "Training Recall: 1.0\n",
      "Training F1: 1.0\n",
      "Training ROC AUC: 1.0\n",
      "Validation Accuracy: 0.6949152542372882\n",
      "Validation Precision: 0.5185185185185185\n",
      "Validation Recall: 0.7368421052631579\n",
      "Validation F1: 0.6086956521739131\n",
      "Validation ROC AUC: 0.705921052631579\n",
      "Test Accuracy: 0.8\n",
      "Test Precision: 0.6842105263157895\n",
      "Test Recall: 0.6842105263157895\n",
      "Test F1: 0.6842105263157895\n",
      "Test ROC AUC: 0.7689345314505777\n",
      "Training Accuracy: 0.8222222222222222\n",
      "Training Precision: 0.782608695652174\n",
      "Training Recall: 0.6206896551724138\n",
      "Training F1: 0.6923076923076923\n",
      "Training ROC AUC: 0.8542962125494631\n",
      "Validation Accuracy: 0.8813559322033898\n",
      "Validation Precision: 0.875\n",
      "Validation Recall: 0.7368421052631579\n",
      "Validation F1: 0.8\n",
      "Validation ROC AUC: 0.8973684210526315\n",
      "Test Accuracy: 0.8833333333333333\n",
      "Test Precision: 0.9285714285714286\n",
      "Test Recall: 0.6842105263157895\n",
      "Test F1: 0.7878787878787878\n",
      "Test ROC AUC: 0.9017971758664955\n"
     ]
    }
   ],
   "source": [
    "# Do final evaluation with the best models only. In this example we have only two, \n",
    "# so we test both.\n",
    "\n",
    "evaluate(dt1, final_eval=True)\n",
    "evaluate(dt2, final_eval=True)"
   ]
  },
  {
   "cell_type": "code",
   "execution_count": 13,
   "metadata": {},
   "outputs": [
    {
     "data": {
      "text/plain": [
       "array([[40,  1],\n",
       "       [ 6, 13]])"
      ]
     },
     "execution_count": 13,
     "metadata": {},
     "output_type": "execute_result"
    }
   ],
   "source": [
    "# Calculate the confusion matrix for the best decision tree model.\n",
    "\n",
    "confusion_matrix(test_targets, dt2.predict(test_features))"
   ]
  },
  {
   "cell_type": "code",
   "execution_count": 14,
   "metadata": {},
   "outputs": [
    {
     "data": {
      "text/plain": [
       "<sklearn.metrics._plot.confusion_matrix.ConfusionMatrixDisplay at 0x71164dcbbd10>"
      ]
     },
     "execution_count": 14,
     "metadata": {},
     "output_type": "execute_result"
    },
    {
     "data": {
      "image/png": "[encoded data removed]",
      "text/plain": [
       "<Figure size 640x480 with 2 Axes>"
      ]
     },
     "metadata": {},
     "output_type": "display_data"
    }
   ],
   "source": [
    "# The ConfusionMatrixDisplay class can be used to make confusion matrix plots\n",
    "\n",
    "ConfusionMatrixDisplay.from_estimator(dt2, test_features, test_targets)"
   ]
  },
  {
   "cell_type": "markdown",
   "metadata": {},
   "source": [
    "The confusion matrix show that dt2 is very accurate in it's predictions (precision), only two false positives. There are however 9 false negatives i.e. 9 failures that wasn't predicted. This could have dramatic consequences in practice."
   ]
  },
  {
   "cell_type": "code",
   "execution_count": 15,
   "metadata": {},
   "outputs": [
    {
     "data": {
      "text/plain": [
       "<sklearn.metrics._plot.roc_curve.RocCurveDisplay at 0x71164b50bf90>"
      ]
     },
     "execution_count": 15,
     "metadata": {},
     "output_type": "execute_result"
    },
    {
     "data": {
      "image/png": "[encoded data removed]",
      "text/plain": [
       "<Figure size 640x480 with 1 Axes>"
      ]
     },
     "metadata": {},
     "output_type": "display_data"
    }
   ],
   "source": [
    "# Plot the ROC curve for the best decision tree model\n",
    "\n",
    "# These two statements achieves the same thing\n",
    "# RocCurveDisplay.from_predictions(test_targets, dt2.predict_proba(test_features)[:,1])\n",
    "RocCurveDisplay.from_estimator(dt2, test_features, test_targets)"
   ]
  },
  {
   "cell_type": "markdown",
   "metadata": {},
   "source": [
    "The ROC curve show very good performance for all sensitivities. This is also shown by the AUC of 0.84"
   ]
  },
  {
   "cell_type": "code",
   "execution_count": 16,
   "metadata": {},
   "outputs": [
    {
     "name": "stdout",
     "output_type": "stream",
     "text": [
      "Training Accuracy: 0.8166666666666667\n",
      "Training Precision: 0.8048780487804879\n",
      "Training Recall: 0.5689655172413793\n",
      "Training F1: 0.6666666666666666\n",
      "Training ROC AUC: 0.85472018089316\n",
      "Validation Accuracy: 0.7457627118644068\n",
      "Validation Precision: 0.6666666666666666\n",
      "Validation Recall: 0.42105263157894735\n",
      "Validation F1: 0.5161290322580645\n",
      "Validation ROC AUC: 0.8013157894736842\n"
     ]
    }
   ],
   "source": [
    "# Train and evaluate a gaussian naive bayesian classifier with default parameters\n",
    "\n",
    "nb1 = GaussianNB()\n",
    "nb1.fit(train_features, train_targets)\n",
    "evaluate(nb1)"
   ]
  },
  {
   "cell_type": "markdown",
   "metadata": {},
   "source": [
    "* Slight overfitting, but nothing drastic. This fits with the fact that NB classifiers typically generalize better than many other ML algorithms, especially with a limited amount of data.\n",
    "* Better precision than recall"
   ]
  },
  {
   "cell_type": "code",
   "execution_count": 17,
   "metadata": {},
   "outputs": [
    {
     "name": "stdout",
     "output_type": "stream",
     "text": [
      "Training Accuracy: 0.8166666666666667\n",
      "Training Precision: 0.8378378378378378\n",
      "Training Recall: 0.5344827586206896\n",
      "Training F1: 0.6526315789473685\n",
      "Training ROC AUC: 0.8362068965517242\n",
      "Validation Accuracy: 0.7457627118644068\n",
      "Validation Precision: 0.6666666666666666\n",
      "Validation Recall: 0.42105263157894735\n",
      "Validation F1: 0.5161290322580645\n",
      "Validation ROC AUC: 0.8026315789473685\n"
     ]
    }
   ],
   "source": [
    "# Train and evaluate Gaussian NB with 10 times the amount of smoothing to see if we can remove the \n",
    "# overfitting\n",
    "\n",
    "nb2 = GaussianNB(var_smoothing=1e-8)\n",
    "nb2.fit(train_features, train_targets)\n",
    "evaluate(nb2)"
   ]
  },
  {
   "cell_type": "markdown",
   "metadata": {},
   "source": [
    "* Performs worse than nb1, perhaps a less drastic increase in smoothing should be tested"
   ]
  },
  {
   "cell_type": "code",
   "execution_count": 18,
   "metadata": {},
   "outputs": [
    {
     "name": "stdout",
     "output_type": "stream",
     "text": [
      "Training Accuracy: 0.7944444444444444\n",
      "Training Precision: 0.8\n",
      "Training Recall: 0.4827586206896552\n",
      "Training F1: 0.6021505376344086\n",
      "Training ROC AUC: 0.8626342566421706\n",
      "Validation Accuracy: 0.7288135593220338\n",
      "Validation Precision: 0.6\n",
      "Validation Recall: 0.47368421052631576\n",
      "Validation F1: 0.5294117647058824\n",
      "Validation ROC AUC: 0.8236842105263158\n"
     ]
    }
   ],
   "source": [
    "# Train and evaluate Gaussian NB with 10 times less smoothing\n",
    "\n",
    "nb3 = GaussianNB(var_smoothing=1e-10)\n",
    "nb3.fit(train_features, train_targets)\n",
    "evaluate(nb3)"
   ]
  },
  {
   "cell_type": "markdown",
   "metadata": {},
   "source": [
    "* More overfitting, which matches our expectation when less smoothing is applied\n",
    "* Better than nb2, but seemingly not as good as nb1 for validation data "
   ]
  },
  {
   "cell_type": "code",
   "execution_count": 19,
   "metadata": {},
   "outputs": [
    {
     "name": "stdout",
     "output_type": "stream",
     "text": [
      "Training Accuracy: 0.8166666666666667\n",
      "Training Precision: 0.8048780487804879\n",
      "Training Recall: 0.5689655172413793\n",
      "Training F1: 0.6666666666666666\n",
      "Training ROC AUC: 0.85472018089316\n",
      "Validation Accuracy: 0.7457627118644068\n",
      "Validation Precision: 0.6666666666666666\n",
      "Validation Recall: 0.42105263157894735\n",
      "Validation F1: 0.5161290322580645\n",
      "Validation ROC AUC: 0.8013157894736842\n",
      "Test Accuracy: 0.8\n",
      "Test Precision: 0.7692307692307693\n",
      "Test Recall: 0.5263157894736842\n",
      "Test F1: 0.625\n",
      "Test ROC AUC: 0.8600770218228497\n",
      "Training Accuracy: 0.7944444444444444\n",
      "Training Precision: 0.8\n",
      "Training Recall: 0.4827586206896552\n",
      "Training F1: 0.6021505376344086\n",
      "Training ROC AUC: 0.8626342566421706\n",
      "Validation Accuracy: 0.7288135593220338\n",
      "Validation Precision: 0.6\n",
      "Validation Recall: 0.47368421052631576\n",
      "Validation F1: 0.5294117647058824\n",
      "Validation ROC AUC: 0.8236842105263158\n",
      "Test Accuracy: 0.8\n",
      "Test Precision: 0.7692307692307693\n",
      "Test Recall: 0.5263157894736842\n",
      "Test F1: 0.625\n",
      "Test ROC AUC: 0.8741976893453145\n"
     ]
    }
   ],
   "source": [
    "# Compare the two best naive bayes classifiers. You should add more \n",
    "# models by testing other parameters and values. For Gaussian NB there is only one more \n",
    "# parameter to test\n",
    "\n",
    "# A combined classifier that uses Gaussian NB for the continuous features and Bernoulli NB \n",
    "# for the binary features could also be tested as an alternative model.\n",
    "\n",
    "evaluate(nb1, final_eval=True)\n",
    "evaluate(nb3, final_eval=True)"
   ]
  },
  {
   "cell_type": "markdown",
   "metadata": {},
   "source": [
    "* The two models performs exactly the same on test data, which makes us have to fall back to validation data in determining which models is the best\n",
    "* nb1 is the better of the two for validation data. (Individual metrics should be discussed)"
   ]
  },
  {
   "cell_type": "code",
   "execution_count": 20,
   "metadata": {},
   "outputs": [
    {
     "data": {
      "text/plain": [
       "<sklearn.metrics._plot.confusion_matrix.ConfusionMatrixDisplay at 0x71164b5f5e50>"
      ]
     },
     "execution_count": 20,
     "metadata": {},
     "output_type": "execute_result"
    },
    {
     "data": {
      "image/png": "[encoded data removed]",
      "text/plain": [
       "<Figure size 640x480 with 2 Axes>"
      ]
     },
     "metadata": {},
     "output_type": "display_data"
    }
   ],
   "source": [
    "# Plot the confusion matrix for the best NB\n",
    "\n",
    "ConfusionMatrixDisplay.from_estimator(nb1, test_features, test_targets)"
   ]
  },
  {
   "cell_type": "code",
   "execution_count": 21,
   "metadata": {},
   "outputs": [
    {
     "data": {
      "text/plain": [
       "<sklearn.metrics._plot.roc_curve.RocCurveDisplay at 0x71164d9871d0>"
      ]
     },
     "execution_count": 21,
     "metadata": {},
     "output_type": "execute_result"
    },
    {
     "data": {
      "image/png": "[encoded data removed]",
      "text/plain": [
       "<Figure size 640x480 with 1 Axes>"
      ]
     },
     "metadata": {},
     "output_type": "display_data"
    }
   ],
   "source": [
    "RocCurveDisplay.from_estimator(nb1, test_features, test_targets)"
   ]
  },
  {
   "cell_type": "code",
   "execution_count": 22,
   "metadata": {},
   "outputs": [
    {
     "name": "stdout",
     "output_type": "stream",
     "text": [
      "Training Accuracy: 0.8222222222222222\n",
      "Training Precision: 0.782608695652174\n",
      "Training Recall: 0.6206896551724138\n",
      "Training F1: 0.6923076923076923\n",
      "Training ROC AUC: 0.8542962125494631\n",
      "Validation Accuracy: 0.8813559322033898\n",
      "Validation Precision: 0.875\n",
      "Validation Recall: 0.7368421052631579\n",
      "Validation F1: 0.8\n",
      "Validation ROC AUC: 0.8973684210526315\n",
      "Test Accuracy: 0.8833333333333333\n",
      "Test Precision: 0.9285714285714286\n",
      "Test Recall: 0.6842105263157895\n",
      "Test F1: 0.7878787878787878\n",
      "Test ROC AUC: 0.9017971758664955\n",
      "Training Accuracy: 0.8166666666666667\n",
      "Training Precision: 0.8048780487804879\n",
      "Training Recall: 0.5689655172413793\n",
      "Training F1: 0.6666666666666666\n",
      "Training ROC AUC: 0.85472018089316\n",
      "Validation Accuracy: 0.7457627118644068\n",
      "Validation Precision: 0.6666666666666666\n",
      "Validation Recall: 0.42105263157894735\n",
      "Validation F1: 0.5161290322580645\n",
      "Validation ROC AUC: 0.8013157894736842\n",
      "Test Accuracy: 0.8\n",
      "Test Precision: 0.7692307692307693\n",
      "Test Recall: 0.5263157894736842\n",
      "Test F1: 0.625\n",
      "Test ROC AUC: 0.8600770218228497\n"
     ]
    }
   ],
   "source": [
    "# Here you should add a collected presentation of all the results to make it easy to make the final \n",
    "# conclusion. I've kept it simple here by only showing the evaluation for the best classifiers of \n",
    "# both type\n",
    "\n",
    "evaluate(dt2, final_eval=True)\n",
    "evaluate(nb1, final_eval=True)"
   ]
  },
  {
   "cell_type": "markdown",
   "metadata": {},
   "source": [
    "Based on the metrics shown above we have to conclude that that dt2 is the best classifier for predicting heart failures. Both the confusion matrices and the ROC plots confirm the results. Both classifiers have a significant amount of false negatives, which makes both models complicate to implement in healthcare practice. \n",
    "\n",
    "The results are highly dependent on the random sampling in the data partitions. A more thorough analysis is needed to overcome this issue."
   ]
  },
  {
   "cell_type": "markdown",
   "metadata": {},
   "source": []
  }
 ],
 "metadata": {
  "kernelspec": {
   "display_name": "sklearn",
   "language": "python",
   "name": "python3"
  },
  "language_info": {
   "codemirror_mode": {
    "name": "ipython",
    "version": 3
   },
   "file_extension": ".py",
   "mimetype": "text/x-python",
   "name": "python",
   "nbconvert_exporter": "python",
   "pygments_lexer": "ipython3",
   "version": "3.11.6"
  }
 },
 "nbformat": 4,
 "nbformat_minor": 2
}
